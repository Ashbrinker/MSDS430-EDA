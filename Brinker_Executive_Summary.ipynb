{
 "cells": [
  {
   "cell_type": "markdown",
   "id": "58d64943",
   "metadata": {},
   "source": [
    "# Analysis of Spotify Song Characteristics Relative to Popularity\n",
    "### Ashley Brinker\n",
    "#### 1 June 2022"
   ]
  },
  {
   "cell_type": "markdown",
   "id": "b040a695",
   "metadata": {},
   "source": [
    "# Introduction:\n",
    "This project is an evaluation of song popularity based on song characteristics. These characteristics include traditional Music Theory, as well as Spotify designed qualitites that help with song recommendation algorithms. \n",
    "    \n",
    "Music recommendation algorithms and the idea of 'pop music' are interesting fields of study when it comes to music creation. The existence of 'pop music' leads to the expectation that certain songs are inherently more popular by genre classification. Genre is assigned by song qualities, so we expect to find some qualities that directly impact popularity. While this project isn't seeking to alter the creativity of musicians in the goal of a hit track, it is seeking to find reasons why any song gains popularity in the first place.  \n",
    "    \n",
    "This project is a continuation of my undergraduate capstone that evaluated Spotify audio features for genre classification. \n",
    "    \n",
    "Some hypotheses at the beginning of this project include:\n",
    "    \n",
    "1. Album type (single, album, or compilation) will affect song popularity. Singles will be more popular than albums or compilations, considering singles are often released as the \"hit single\" before an album release. The singles are also often included on the album, and thus have multiple opportunities to be played.\n",
    "    \n",
    "2. Artist popularity affects song popularity. The more popular the artist is, the more popular the song will be due to an established fan base.\n",
    "    \n",
    "3. Valence and Danceability will have an impact on popularity. Songs with a higher Valence are percived as \"happier,\" and songs with a higher Danceability are more upbeat and \"danceable.\" These songs have a higher liklihood of being played on the radio or in a public setting.\n",
    "    \n",
    "4. Speechiness and Instrumentalness will have an impact on popularity. Speechiness is the measure of spoken word in a song, while Instrumentalness is the measure of instrumentals in a song. It's expected that a purely spoken word (i.e. poetry or book recording) will have a lower popularity, as well as purely instrumental tracks. "
   ]
  },
  {
   "cell_type": "markdown",
   "id": "d1dc1a4c",
   "metadata": {},
   "source": [
    "# Data Explained\n",
    "    \n",
    "This data was retrieved using the Spotify API for developers. This required an understanding of tokenization to authorize access, as well as API querying based on the documentation found here: https://developer.spotify.com/documentation/web-api/\n",
    "    \n",
    "The subsequent steps included:\n",
    "- Track querying to retrieve track IDs and track catalog information based on our filtering years (2010-2021).\n",
    "- Track attribute querying to retrieve audio features for every track, using track IDs.\n",
    "- Artist attribute querying to retrieve artist catalog information, using artist IDs. \n",
    "- Clean the data based on Spotify's predefined ranges (i.e. remove any data that contains a value that represents uncertainty or no measurement available)."
   ]
  },
  {
   "cell_type": "markdown",
   "id": "a4819bb5",
   "metadata": {},
   "source": [
    "#### Data Dictionary\n",
    "| Field Name | Type | Description |\n",
    "|------------|------|-------------|\n",
    "|Track_ID|string of alphanumeric characters|Unique identifier for tracks in Spotify.|\n",
    "|Track_Name|string|The official track title.|\n",
    "|Popularity|int|A track's popularity; 0 being least popular and 100 being most popular.|\n",
    "|Artist_Name|string|The primary artist name.|\n",
    "|Artist_Popularity|int|An artist's popularity; 0 being least popular and 100 being most popular.|\n",
    "|Album_Type|string|Album type; allowed values:\"album\", \"single\", \"compilation\".|\n",
    "|Album_Total_Tracks|int|How many tracks are in the album.|\n",
    "|Release_Date|string|The release date; format of \"XXXX\" year, \"XXXX-XX\" month, or \"XXXX-XX-XX\" day.|\n",
    "|Acousticness|float|A confidence measure from 0.0 to 1.0 of whether the track is acoustic; 1.0 represents high confidence the track is acoustic.|\n",
    "|Danceability|float|How suitable a track is for dancing based on a combination of musical elements including tempo, rhythm stability, beat strength, and overall regularity; a value of 0.0 is least danceable and 1.0 is most danceable.|\n",
    "|Energy|float|A measure from 0.0 to 1.0 and represents a perceptual measure of intensity and activity; a value of 0.0 is low energy and 1.0 is high energy.|\n",
    "|Instrumentalness|float|A prediciton of whether a track contains no vocals. \"Ooh\" and \"aah\" sounds are treated as instrumental in this context. Rap or spoken word tracks are clearly \"vocal\". The closer the instrumentalness value is to 1.0, the greater likelihood the track contains no vocal content. Values above 0.5 are intended to represent instrumental tracks, but confidence is higher as the value approaches 1.0.|\n",
    "|Key|int|The key the track is in. Integers map to pitches using standard Pitch Class notation. E.g. 0 = C, 1 = C♯/D♭, 2 = D, and so on. If no key was detected, the value is -1.|\n",
    "|Liveness|float|The presence of an audience in the recording. Higher liveness values represent an increased probability that the track was performed live. A value above 0.8 provides strong likelihood that the track is live.|\n",
    "|Loudness|float|The overall loudness of a track in decibels (dB). Loudness values are averaged across the entire track and are useful for comparing relative loudness of tracks. Loudness is the quality of a sound that is the primary psychological correlate of physical strength (amplitude). Values typically range between -60 and 0 db.|\n",
    "|Mode|int|The modality (major or minor) of a track, the type of scale from which its melodic content is derived. Major is represented by 1 and minor is 0.|\n",
    "|Speechiness|float|The presence of spoken words in a track. The more exclusively speech-like the recording (e.g. talk show, audio book, poetry), the closer to 1.0 the attribute value. Values above 0.66 describe tracks that are probably made entirely of spoken words. Values between 0.33 and 0.66 describe tracks that may contain both music and speech, either in sections or layered, including such cases as rap music. Values below 0.33 most likely represent music and other non-speech-like tracks.|\n",
    "|Tempo|float|The overall estimated tempo of a track in beats per minute (BPM). In musical terminology, tempo is the speed or pace of a given piece and derives directly from the average beat duration.|\n",
    "|Time_Signature|int|An estimated time signature. The time signature (meter) is a notational convention to specify how many beats are in each bar (or measure). The time signature ranges from 3 to 7 indicating time signatures of \"3/4\", to \"7/4\".|\n",
    "|Valence|float|A measure from 0.0 to 1.0 describing the musical positiveness conveyed by a track. Tracks with high valence sound more positive (e.g. happy, cheerful, euphoric), while tracks with low valence sound more negative (e.g. sad, depressed, angry).|"
   ]
  },
  {
   "cell_type": "markdown",
   "id": "3d38fa28",
   "metadata": {},
   "source": [
    "# Results\n",
    "    \n",
    "We begin by confirming our data with info() and exploring a heatmap of our desired variables."
   ]
  },
  {
   "cell_type": "code",
   "execution_count": 4,
   "id": "de631e8b",
   "metadata": {},
   "outputs": [],
   "source": [
    "import pandas as pd\n",
    "import numpy as np\n",
    "import seaborn as sns\n",
    "import matplotlib.pyplot as plt\n",
    "import matplotlib as mlp\n",
    "%matplotlib inline\n",
    "\n",
    "from IPython.core.interactiveshell import InteractiveShell\n",
    "InteractiveShell.ast_node_interactivity = 'all'"
   ]
  },
  {
   "cell_type": "code",
   "execution_count": 9,
   "id": "5468f72b",
   "metadata": {},
   "outputs": [
    {
     "name": "stdout",
     "output_type": "stream",
     "text": [
      "<class 'pandas.core.frame.DataFrame'>\n",
      "Int64Index: 11485 entries, 0 to 11999\n",
      "Data columns (total 20 columns):\n",
      " #   Column              Non-Null Count  Dtype  \n",
      "---  ------              --------------  -----  \n",
      " 0   Track_ID            11485 non-null  object \n",
      " 1   Track_Name          11485 non-null  object \n",
      " 2   Popularity          11485 non-null  int64  \n",
      " 3   Artist_Name         11485 non-null  object \n",
      " 4   Artist_Popularity   11485 non-null  int64  \n",
      " 5   Album_Type          11485 non-null  object \n",
      " 6   Album_Total_Tracks  11485 non-null  int64  \n",
      " 7   Acousticness        11485 non-null  float64\n",
      " 8   Danceability        11485 non-null  float64\n",
      " 9   Energy              11485 non-null  float64\n",
      " 10  Instrumentalness    11485 non-null  float64\n",
      " 11  Key                 11485 non-null  int64  \n",
      " 12  Liveness            11485 non-null  float64\n",
      " 13  Loudness            11485 non-null  float64\n",
      " 14  Mode                11485 non-null  int64  \n",
      " 15  Speechiness         11485 non-null  float64\n",
      " 16  Tempo               11485 non-null  float64\n",
      " 17  Time_Signature      11485 non-null  int64  \n",
      " 18  Valence             11485 non-null  float64\n",
      " 19  Release_Year        11485 non-null  int64  \n",
      "dtypes: float64(9), int64(7), object(4)\n",
      "memory usage: 1.8+ MB\n"
     ]
    }
   ],
   "source": [
    "df = pd.read_csv('EDA_data2.csv', index_col=0)\n",
    "df.info()"
   ]
  },
  {
   "cell_type": "code",
   "execution_count": 10,
   "id": "9f6305d8",
   "metadata": {},
   "outputs": [
    {
     "data": {
      "text/plain": [
       "<AxesSubplot:>"
      ]
     },
     "execution_count": 10,
     "metadata": {},
     "output_type": "execute_result"
    },
    {
     "data": {
      "image/png": "[encoded data removed]",
      "text/plain": [
       "<Figure size 432x288 with 2 Axes>"
      ]
     },
     "metadata": {
      "needs_background": "light"
     },
     "output_type": "display_data"
    }
   ],
   "source": [
    "#list of the columns we want to explore\n",
    "columns = ['Popularity','Artist_Popularity','Valence','Danceability','Speechiness','Instrumentalness']\n",
    "df_corr = df[columns]\n",
    "corrmat = df_corr.corr()\n",
    "\n",
    "#heatmap with selected columns\n",
    "sns.heatmap(corrmat, square=True, annot=True, cmap='RdYlBu')"
   ]
  },
  {
   "cell_type": "markdown",
   "id": "4ab25c80",
   "metadata": {},
   "source": [
    "### Heatmap Results\n",
    "\n",
    "The heatmap shows that there is no strong correlation with any individual variable and popularity. The correlation between Valence and Danceability is in line with our expectations of \"happy songs,\" and thus gives us some inital expectations with our third hypothesis. "
   ]
  },
  {
   "cell_type": "markdown",
   "id": "a2e9da4c",
   "metadata": {},
   "source": [
    "## Hypothesis: Album Type will affect song popularity. \n",
    "    \n",
    "Singles will be more popular than album or compilation tracks. "
   ]
  },
  {
   "cell_type": "code",
   "execution_count": 11,
   "id": "564b2e97",
   "metadata": {},
   "outputs": [
    {
     "data": {
      "text/plain": [
       "album          8019\n",
       "compilation    2014\n",
       "single         1452\n",
       "Name: Album_Type, dtype: int64"
      ]
     },
     "execution_count": 11,
     "metadata": {},
     "output_type": "execute_result"
    },
    {
     "data": {
      "text/plain": [
       "<AxesSubplot:xlabel='Album_Type', ylabel='Popularity'>"
      ]
     },
     "execution_count": 11,
     "metadata": {},
     "output_type": "execute_result"
    },
    {
     "data": {
      "image/png": "[encoded data removed]",
      "text/plain": [
       "<Figure size 432x288 with 1 Axes>"
      ]
     },
     "metadata": {
      "needs_background": "light"
     },
     "output_type": "display_data"
    }
   ],
   "source": [
    "df['Album_Type'].value_counts()\n",
    "sns.boxplot(x=df['Album_Type'], y=df['Popularity'])"
   ]
  },
  {
   "cell_type": "markdown",
   "id": "e362ad80",
   "metadata": {},
   "source": [
    "### Album Type Boxplot Results\n",
    "It appears that singles tend to have a higher popularity ranking than albums or compilations. While there appear to be outliers in single and compilation, the data has been pulled from a reputible source and evaluated as correct. "
   ]
  },
  {
   "cell_type": "markdown",
   "id": "af624371",
   "metadata": {},
   "source": [
    "## Hypothesis: Artist popularity will have an impact on popularity.\n",
    "    \n",
    "The more popular the artist is, the more popular the song will be."
   ]
  },
  {
   "cell_type": "code",
   "execution_count": 15,
   "id": "65b69f70",
   "metadata": {},
   "outputs": [
    {
     "data": {
      "text/plain": [
       "3526"
      ]
     },
     "execution_count": 15,
     "metadata": {},
     "output_type": "execute_result"
    },
    {
     "data": {
      "text/plain": [
       "count    11485.000000\n",
       "mean        83.680627\n",
       "std          9.623487\n",
       "min         63.000000\n",
       "25%         76.000000\n",
       "50%         85.000000\n",
       "75%         93.000000\n",
       "max         98.000000\n",
       "Name: Artist_Popularity, dtype: float64"
      ]
     },
     "execution_count": 15,
     "metadata": {},
     "output_type": "execute_result"
    }
   ],
   "source": [
    "df['Artist_Name'].nunique()\n",
    "df['Artist_Popularity'].describe()"
   ]
  },
  {
   "cell_type": "markdown",
   "id": "42b4d6ac",
   "metadata": {},
   "source": [
    "Here we plan to evaluate tracks by the popularity of the artist by percentile."
   ]
  },
  {
   "cell_type": "code",
   "execution_count": 17,
   "id": "e1f2925e",
   "metadata": {},
   "outputs": [],
   "source": [
    "cat_25 = df['Artist_Popularity'].describe()[4]\n",
    "cat_50 = df['Artist_Popularity'].describe()[5]\n",
    "cat_75 = df['Artist_Popularity'].describe()[6]\n",
    "\n",
    "#categorize artists by percentile\n",
    "df['Artist_Rank'] = pd.Categorical(np.where(df['Artist_Popularity'] > cat_25,3,4))\n",
    "df['Artist_Rank'] = pd.Categorical(np.where(df['Artist_Popularity'] > cat_50,2,df['Artist_Rank']))\n",
    "df['Artist_Rank'] = pd.Categorical(np.where(df['Artist_Popularity'] > cat_75,1,df['Artist_Rank']))"
   ]
  },
  {
   "cell_type": "code",
   "execution_count": 20,
   "id": "5e162951",
   "metadata": {},
   "outputs": [
    {
     "data": {
      "text/plain": [
       "1    1850\n",
       "3    2756\n",
       "4    3215\n",
       "2    3664\n",
       "Name: Artist_Rank, dtype: int64"
      ]
     },
     "execution_count": 20,
     "metadata": {},
     "output_type": "execute_result"
    }
   ],
   "source": [
    "df['Artist_Rank'].value_counts().sort_values()"
   ]
  },
  {
   "cell_type": "code",
   "execution_count": 23,
   "id": "0f74400b",
   "metadata": {},
   "outputs": [
    {
     "data": {
      "text/html": [
       "<div>\n",
       "<style scoped>\n",
       "    .dataframe tbody tr th:only-of-type {\n",
       "        vertical-align: middle;\n",
       "    }\n",
       "\n",
       "    .dataframe tbody tr th {\n",
       "        vertical-align: top;\n",
       "    }\n",
       "\n",
       "    .dataframe thead th {\n",
       "        text-align: right;\n",
       "    }\n",
       "</style>\n",
       "<table border=\"1\" class=\"dataframe\">\n",
       "  <thead>\n",
       "    <tr style=\"text-align: right;\">\n",
       "      <th></th>\n",
       "      <th>count</th>\n",
       "      <th>mean</th>\n",
       "      <th>std</th>\n",
       "      <th>min</th>\n",
       "      <th>25%</th>\n",
       "      <th>50%</th>\n",
       "      <th>75%</th>\n",
       "      <th>max</th>\n",
       "    </tr>\n",
       "    <tr>\n",
       "      <th>Artist_Rank</th>\n",
       "      <th></th>\n",
       "      <th></th>\n",
       "      <th></th>\n",
       "      <th></th>\n",
       "      <th></th>\n",
       "      <th></th>\n",
       "      <th></th>\n",
       "      <th></th>\n",
       "    </tr>\n",
       "  </thead>\n",
       "  <tbody>\n",
       "    <tr>\n",
       "      <th>1</th>\n",
       "      <td>1850.0</td>\n",
       "      <td>45.577297</td>\n",
       "      <td>30.020756</td>\n",
       "      <td>0.0</td>\n",
       "      <td>7.0</td>\n",
       "      <td>60.0</td>\n",
       "      <td>69.0</td>\n",
       "      <td>91.0</td>\n",
       "    </tr>\n",
       "    <tr>\n",
       "      <th>2</th>\n",
       "      <td>3664.0</td>\n",
       "      <td>36.881004</td>\n",
       "      <td>31.661024</td>\n",
       "      <td>0.0</td>\n",
       "      <td>1.0</td>\n",
       "      <td>51.0</td>\n",
       "      <td>67.0</td>\n",
       "      <td>91.0</td>\n",
       "    </tr>\n",
       "    <tr>\n",
       "      <th>3</th>\n",
       "      <td>2756.0</td>\n",
       "      <td>43.699565</td>\n",
       "      <td>30.513222</td>\n",
       "      <td>0.0</td>\n",
       "      <td>5.0</td>\n",
       "      <td>59.0</td>\n",
       "      <td>69.0</td>\n",
       "      <td>90.0</td>\n",
       "    </tr>\n",
       "    <tr>\n",
       "      <th>4</th>\n",
       "      <td>3215.0</td>\n",
       "      <td>36.273406</td>\n",
       "      <td>31.564794</td>\n",
       "      <td>0.0</td>\n",
       "      <td>1.0</td>\n",
       "      <td>49.0</td>\n",
       "      <td>67.0</td>\n",
       "      <td>92.0</td>\n",
       "    </tr>\n",
       "  </tbody>\n",
       "</table>\n",
       "</div>"
      ],
      "text/plain": [
       "              count       mean        std  min  25%   50%   75%   max\n",
       "Artist_Rank                                                          \n",
       "1            1850.0  45.577297  30.020756  0.0  7.0  60.0  69.0  91.0\n",
       "2            3664.0  36.881004  31.661024  0.0  1.0  51.0  67.0  91.0\n",
       "3            2756.0  43.699565  30.513222  0.0  5.0  59.0  69.0  90.0\n",
       "4            3215.0  36.273406  31.564794  0.0  1.0  49.0  67.0  92.0"
      ]
     },
     "execution_count": 23,
     "metadata": {},
     "output_type": "execute_result"
    }
   ],
   "source": [
    "df.groupby('Artist_Rank').describe(include=np.number)['Popularity']"
   ]
  },
  {
   "cell_type": "code",
   "execution_count": 24,
   "id": "830b971e",
   "metadata": {},
   "outputs": [
    {
     "data": {
      "text/plain": [
       "<AxesSubplot:xlabel='Artist_Rank', ylabel='Popularity'>"
      ]
     },
     "execution_count": 24,
     "metadata": {},
     "output_type": "execute_result"
    },
    {
     "data": {
      "image/png": "[encoded data removed]",
      "text/plain": [
       "<Figure size 432x288 with 1 Axes>"
      ]
     },
     "metadata": {
      "needs_background": "light"
     },
     "output_type": "display_data"
    }
   ],
   "source": [
    "sns.boxplot(x=df['Artist_Rank'], y=df['Popularity'])"
   ]
  },
  {
   "cell_type": "markdown",
   "id": "4c580f43",
   "metadata": {},
   "source": [
    "### Artist Popularity Boxplot Results:\n",
    "It appears that artist popularity has no significant effect on track popularity. "
   ]
  },
  {
   "cell_type": "markdown",
   "id": "bbef0297",
   "metadata": {},
   "source": [
    "## Hypothesis: Valence and Danceability will impact popularity. \n",
    "    \n",
    "Tracks with higher valence and danceability will have a higher popularity. "
   ]
  },
  {
   "cell_type": "code",
   "execution_count": 35,
   "id": "88a0c241",
   "metadata": {},
   "outputs": [
    {
     "data": {
      "text/plain": [
       "count    11485.000000\n",
       "mean         0.552294\n",
       "std          0.225774\n",
       "min          0.078400\n",
       "25%          0.377000\n",
       "50%          0.591000\n",
       "75%          0.720000\n",
       "max          0.955000\n",
       "Name: Valence, dtype: float64"
      ]
     },
     "execution_count": 35,
     "metadata": {},
     "output_type": "execute_result"
    }
   ],
   "source": [
    "df['Valence'].describe()\n",
    "val_25 = df['Valence'].describe()[4]\n",
    "val_50 = df['Valence'].describe()[5]\n",
    "val_75 = df['Valence'].describe()[6]"
   ]
  },
  {
   "cell_type": "markdown",
   "id": "5492d06c",
   "metadata": {},
   "source": [
    "Again we utilize percentiles to see how Valence alone affects popularity. "
   ]
  },
  {
   "cell_type": "code",
   "execution_count": 36,
   "id": "196aca4d",
   "metadata": {},
   "outputs": [],
   "source": [
    "#categorize valence by percentile\n",
    "df['Val_Rank'] = pd.Categorical(np.where(df['Valence'] > val_25,3,4),ordered=True)\n",
    "df['Val_Rank'] = pd.Categorical(np.where(df['Valence'] > val_50,2,df['Val_Rank']),ordered=True)\n",
    "df['Val_Rank'] = pd.Categorical(np.where(df['Valence'] > val_75,1,df['Val_Rank']),ordered=True)"
   ]
  },
  {
   "cell_type": "code",
   "execution_count": 37,
   "id": "fdce1e2c",
   "metadata": {},
   "outputs": [
    {
     "data": {
      "text/plain": [
       "4    3005\n",
       "2    2982\n",
       "1    2752\n",
       "3    2746\n",
       "Name: Val_Rank, dtype: int64"
      ]
     },
     "execution_count": 37,
     "metadata": {},
     "output_type": "execute_result"
    }
   ],
   "source": [
    "df['Val_Rank'].value_counts()"
   ]
  },
  {
   "cell_type": "code",
   "execution_count": 38,
   "id": "d19b2a5b",
   "metadata": {},
   "outputs": [
    {
     "data": {
      "text/plain": [
       "<AxesSubplot:xlabel='Val_Rank', ylabel='Popularity'>"
      ]
     },
     "execution_count": 38,
     "metadata": {},
     "output_type": "execute_result"
    },
    {
     "data": {
      "image/png": "[encoded data removed]",
      "text/plain": [
       "<Figure size 432x288 with 1 Axes>"
      ]
     },
     "metadata": {
      "needs_background": "light"
     },
     "output_type": "display_data"
    }
   ],
   "source": [
    "sns.boxplot(x=df['Val_Rank'], y=df['Popularity'])"
   ]
  },
  {
   "cell_type": "code",
   "execution_count": 39,
   "id": "e1070142",
   "metadata": {},
   "outputs": [
    {
     "data": {
      "text/plain": [
       "count    11485.000000\n",
       "mean         0.626414\n",
       "std          0.141320\n",
       "min          0.247000\n",
       "25%          0.542000\n",
       "50%          0.671000\n",
       "75%          0.723000\n",
       "max          0.855000\n",
       "Name: Danceability, dtype: float64"
      ]
     },
     "execution_count": 39,
     "metadata": {},
     "output_type": "execute_result"
    }
   ],
   "source": [
    "df['Danceability'].describe()\n",
    "dan_25 = df['Danceability'].describe()[4]\n",
    "dan_50 = df['Danceability'].describe()[5]\n",
    "dan_75 = df['Danceability'].describe()[6]"
   ]
  },
  {
   "cell_type": "markdown",
   "id": "7992650c",
   "metadata": {},
   "source": [
    "Again we utilize percentiles to see how Danceability alone affects popularity. "
   ]
  },
  {
   "cell_type": "code",
   "execution_count": 40,
   "id": "a9cf21f8",
   "metadata": {},
   "outputs": [],
   "source": [
    "#categorize danceability by percentile\n",
    "df['Dance_Rank'] = pd.Categorical(np.where(df['Danceability'] > dan_25,3,4),ordered=True)\n",
    "df['Dance_Rank'] = pd.Categorical(np.where(df['Danceability'] > dan_50,2,df['Dance_Rank']),ordered=True)\n",
    "df['Dance_Rank'] = pd.Categorical(np.where(df['Danceability'] > dan_75,1,df['Dance_Rank']),ordered=True)"
   ]
  },
  {
   "cell_type": "code",
   "execution_count": 41,
   "id": "dcbccbf3",
   "metadata": {},
   "outputs": [
    {
     "data": {
      "text/plain": [
       "4    3003\n",
       "2    2955\n",
       "3    2780\n",
       "1    2747\n",
       "Name: Dance_Rank, dtype: int64"
      ]
     },
     "execution_count": 41,
     "metadata": {},
     "output_type": "execute_result"
    }
   ],
   "source": [
    "df['Dance_Rank'].value_counts()"
   ]
  },
  {
   "cell_type": "code",
   "execution_count": 42,
   "id": "2dede334",
   "metadata": {},
   "outputs": [
    {
     "data": {
      "text/plain": [
       "<AxesSubplot:xlabel='Dance_Rank', ylabel='Popularity'>"
      ]
     },
     "execution_count": 42,
     "metadata": {},
     "output_type": "execute_result"
    },
    {
     "data": {
      "image/png": "[encoded data removed]",
      "text/plain": [
       "<Figure size 432x288 with 1 Axes>"
      ]
     },
     "metadata": {
      "needs_background": "light"
     },
     "output_type": "display_data"
    }
   ],
   "source": [
    "sns.boxplot(x=df['Dance_Rank'], y=df['Popularity'])"
   ]
  },
  {
   "cell_type": "markdown",
   "id": "1fd997c4",
   "metadata": {},
   "source": [
    "Here we utilize the percentiles of Valence and Danceability to define a new variable \"Feel\" which denotes happy for both contributing variables in the top 50%, sad for both in the bottom 50%, and neutral for any combination of one in the top 50% and one in the bottom 50%. "
   ]
  },
  {
   "cell_type": "code",
   "execution_count": 43,
   "id": "739e1205",
   "metadata": {},
   "outputs": [],
   "source": [
    "#categorize feeling by danceability and valence\n",
    "df['Feel'] = pd.Categorical(np.where((df['Dance_Rank'] >= 2) & (df['Dance_Rank'] >= 2),'happy','neutral'))\n",
    "df['Feel'] = pd.Categorical(np.where((df['Dance_Rank'] <= 3) & (df['Dance_Rank'] <= 3),'sad',df['Feel']))\n"
   ]
  },
  {
   "cell_type": "code",
   "execution_count": 44,
   "id": "58deea41",
   "metadata": {},
   "outputs": [
    {
     "data": {
      "text/plain": [
       "sad      8482\n",
       "happy    3003\n",
       "Name: Feel, dtype: int64"
      ]
     },
     "execution_count": 44,
     "metadata": {},
     "output_type": "execute_result"
    }
   ],
   "source": [
    "df['Feel'].value_counts()"
   ]
  },
  {
   "cell_type": "markdown",
   "id": "a1512a4d",
   "metadata": {},
   "source": [
    "With no songs listed as neutral, we can refer back to the correlation heatmap between Valence and Danceability. "
   ]
  },
  {
   "cell_type": "code",
   "execution_count": 45,
   "id": "1fa4fd6c",
   "metadata": {},
   "outputs": [
    {
     "data": {
      "text/plain": [
       "<AxesSubplot:xlabel='Feel', ylabel='Popularity'>"
      ]
     },
     "execution_count": 45,
     "metadata": {},
     "output_type": "execute_result"
    },
    {
     "data": {
      "image/png": "[encoded data removed]",
      "text/plain": [
       "<Figure size 432x288 with 1 Axes>"
      ]
     },
     "metadata": {
      "needs_background": "light"
     },
     "output_type": "display_data"
    }
   ],
   "source": [
    "sns.boxplot(x=df['Feel'], y=df['Popularity'])"
   ]
  },
  {
   "cell_type": "markdown",
   "id": "d68baa02",
   "metadata": {},
   "source": [
    "### Danceability, Valence and Feel Boxplot Results:\n",
    "    \n",
    "It appears that neither Valence nor Danceability have a significant effect on track popularity, nor does a combination of the two. This could suggest that traditional radio listening does not affect overall Spotify streams. "
   ]
  },
  {
   "cell_type": "markdown",
   "id": "7f8393c9",
   "metadata": {},
   "source": [
    "## Hypothesis: Speechiness and Instrumentalness will have an impact on popularity.\n",
    "    \n",
    "Spoken word tracks and instruemntal tracks will have a lower popularity than tracks that incorporate both components. "
   ]
  },
  {
   "cell_type": "code",
   "execution_count": 12,
   "id": "e21c8104",
   "metadata": {},
   "outputs": [],
   "source": [
    "speech_high = .66 #songs with speechiness higher than this are likely spoken word tracks\n",
    "speech_low = .33 #songs with speechiness lower than this are likely instrumental tracks\n",
    "instrum_mid = .5 #songs with instrumentalness higher than this are likely instrumental tracks\n",
    "\n",
    "df['Track_Type'] = pd.Categorical(np.where(df['Speechiness'] > speech_high,'spoken','track'))\n",
    "df['Track_Type'] = pd.Categorical(np.where((df['Speechiness'] < speech_low) & (df['Instrumentalness'] > instrum_mid), \\\n",
    "                                        'instrumental', df['Track_Type']))"
   ]
  },
  {
   "cell_type": "code",
   "execution_count": 13,
   "id": "f13b60fe",
   "metadata": {},
   "outputs": [
    {
     "data": {
      "text/plain": [
       "track           11029\n",
       "instrumental      456\n",
       "Name: Track_Type, dtype: int64"
      ]
     },
     "execution_count": 13,
     "metadata": {},
     "output_type": "execute_result"
    },
    {
     "data": {
      "text/plain": [
       "<AxesSubplot:xlabel='Track_Type', ylabel='Popularity'>"
      ]
     },
     "execution_count": 13,
     "metadata": {},
     "output_type": "execute_result"
    },
    {
     "data": {
      "image/png": "[encoded data removed]",
      "text/plain": [
       "<Figure size 432x288 with 1 Axes>"
      ]
     },
     "metadata": {
      "needs_background": "light"
     },
     "output_type": "display_data"
    }
   ],
   "source": [
    "df['Track_Type'].value_counts()\n",
    "sns.boxplot(x=df['Track_Type'], y=df['Popularity'])"
   ]
  },
  {
   "cell_type": "markdown",
   "id": "6b53496e",
   "metadata": {},
   "source": [
    "### Spoken Word and Instrumental Boxplot Results:\n",
    "It appears that instrumental songs tend to have a lower popularity. There are no spoken word tracks in this dataset. "
   ]
  },
  {
   "cell_type": "markdown",
   "id": "65b8f3b7",
   "metadata": {},
   "source": [
    "<div style='background-color: darkseagreen;' />\n",
    "\n",
    "# Summary\n",
    "    \n",
    "It appears that the only significant effect of track features on  popularity is the album type. This is en expected finding considering most singles are designed to be the most popular song on an album, and these songs tend to appear in multiple locations on Spotify (once in the single's 'album' and again in the full album. It is surprising to me that none of the other qualities affect popularity. \n",
    "    \n",
    "The only difficulties with this project as a whole was obtaining the data. Spotify has limits on how many requests can be made in a certain duration of time, and with multiple requests per track, it was cumbersome to gather the data while staying within the restrictions. \n",
    "    \n",
    "Some possible next steps could include evaluating a single genre at a time and exploring possible effects within specific genres. This would have to be done on a macro level, considering Spotify genres have a lengthy hierarchy with hyper specific categories. "
   ]
  },
  {
   "cell_type": "code",
   "execution_count": null,
   "id": "1ba648e9",
   "metadata": {},
   "outputs": [],
   "source": []
  }
 ],
 "metadata": {
  "kernelspec": {
   "display_name": "Python 3 (ipykernel)",
   "language": "python",
   "name": "python3"
  },
  "language_info": {
   "codemirror_mode": {
    "name": "ipython",
    "version": 3
   },
   "file_extension": ".py",
   "mimetype": "text/x-python",
   "name": "python",
   "nbconvert_exporter": "python",
   "pygments_lexer": "ipython3",
   "version": "3.9.7"
  }
 },
 "nbformat": 4,
 "nbformat_minor": 5
}
